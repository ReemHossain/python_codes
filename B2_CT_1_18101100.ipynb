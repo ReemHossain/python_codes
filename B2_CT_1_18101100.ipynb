{
  "nbformat": 4,
  "nbformat_minor": 0,
  "metadata": {
    "colab": {
      "name": "B2_CT_1_18101100.ipynb",
      "provenance": [],
      "collapsed_sections": [],
      "authorship_tag": "ABX9TyOHog4tqZLT8tGT2vprzaGB",
      "include_colab_link": true
    },
    "kernelspec": {
      "name": "python3",
      "display_name": "Python 3"
    }
  },
  "cells": [
    {
      "cell_type": "markdown",
      "metadata": {
        "id": "view-in-github",
        "colab_type": "text"
      },
      "source": [
        "<a href=\"https://colab.research.google.com/github/ReemHossain/python_codes/blob/main/B2_CT_1_18101100.ipynb\" target=\"_parent\"><img src=\"https://colab.research.google.com/assets/colab-badge.svg\" alt=\"Open In Colab\"/></a>"
      ]
    },
    {
      "cell_type": "markdown",
      "metadata": {
        "id": "2hVq5OrqYil2"
      },
      "source": [
        "1. Write a python program to calculate compound interest."
      ]
    },
    {
      "cell_type": "code",
      "metadata": {
        "id": "DABhklzZROt2",
        "colab": {
          "base_uri": "https://localhost:8080/",
          "height": 87
        },
        "outputId": "1892ec35-abf4-4305-fec7-4205a9074460"
      },
      "source": [
        "P=int( input(\"Principle(amount in taka): \") ) \n",
        "T=int( input(\"Time(in years): \") ) \n",
        "R= float(input(\"Rate(of interest): \") ) \n",
        "\n",
        "CI =  P *(pow( 1+(R/100),T) ) \n",
        "\n",
        "print('Compound Interest = ', round(CI,3),'taka only' )"
      ],
      "execution_count": null,
      "outputs": [
        {
          "output_type": "stream",
          "text": [
            "Principle(amount in taka): 1200\n",
            "Time(in years): 2\n",
            "Rate(of interest): 5.4\n",
            "Compound Interest =  1333.099 taka only\n"
          ],
          "name": "stdout"
        }
      ]
    },
    {
      "cell_type": "code",
      "metadata": {
        "id": "mKGAhkrJbeIz"
      },
      "source": [
        ""
      ],
      "execution_count": null,
      "outputs": []
    },
    {
      "cell_type": "markdown",
      "metadata": {
        "id": "8YYsO7UObXts"
      },
      "source": [
        "2. Write a python program to calculate the volume and surface area of a Cone."
      ]
    },
    {
      "cell_type": "code",
      "metadata": {
        "id": "VjwzTEzAYhmP",
        "colab": {
          "base_uri": "https://localhost:8080/",
          "height": 87
        },
        "outputId": "647e75b2-d928-45e0-9669-5ae9972860e9"
      },
      "source": [
        "r=float(input(\"r=\"))\n",
        "h=float(input(\"h=\"))\n",
        "pi=3.1416\n",
        "\n",
        "volume= 1/3*pi*(r**2)*h\n",
        "surface_area= pi*r*h + pi*(r**2)\n",
        "\n",
        "print(\"Volume of a cone: \", round(volume,4),'square units')\n",
        "print(\"Surface area of a cone: \" ,round(surface_area,4),'cube units')\n",
        "\n",
        "\n"
      ],
      "execution_count": null,
      "outputs": [
        {
          "output_type": "stream",
          "text": [
            "r=2\n",
            "h=3\n",
            "Volume of a cone:  12.5664 square units\n",
            "Surface area of a cone:  31.416 cube units\n"
          ],
          "name": "stdout"
        }
      ]
    },
    {
      "cell_type": "markdown",
      "metadata": {
        "id": "7symNYphfG-a"
      },
      "source": [
        "3. Write a python program to calculate the volume and surface of the cube."
      ]
    },
    {
      "cell_type": "code",
      "metadata": {
        "id": "lg0hLW-EfLuM",
        "colab": {
          "base_uri": "https://localhost:8080/",
          "height": 69
        },
        "outputId": "f579067d-afa6-474f-803e-2181228795be"
      },
      "source": [
        "a=s=float(input(\"Side length=\"))\n",
        "\n",
        "volume= a**3\n",
        "\n",
        "surface_area=6*(s**2)\n",
        "\n",
        "print(\"Volume of the cube: \", round(volume,4),'square units')\n",
        "print(\"Surface area of the cube: \" ,round(surface_area,4),'cube units')\n"
      ],
      "execution_count": null,
      "outputs": [
        {
          "output_type": "stream",
          "text": [
            "Side length=2\n",
            "Volume of the cube:  8.0 square units\n",
            "Surface area of the cube:  24.0 cube units\n"
          ],
          "name": "stdout"
        }
      ]
    },
    {
      "cell_type": "code",
      "metadata": {
        "id": "GnCqom1ffL3s"
      },
      "source": [
        ""
      ],
      "execution_count": null,
      "outputs": []
    }
  ]
}