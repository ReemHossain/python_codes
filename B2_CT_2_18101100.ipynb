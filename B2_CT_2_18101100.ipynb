{
  "nbformat": 4,
  "nbformat_minor": 0,
  "metadata": {
    "colab": {
      "name": "B2_CT_2_18101100.ipynb",
      "provenance": [],
      "collapsed_sections": [],
      "authorship_tag": "ABX9TyNmaIO4HDw5b1ZhuQYKOj11",
      "include_colab_link": true
    },
    "kernelspec": {
      "name": "python3",
      "display_name": "Python 3"
    }
  },
  "cells": [
    {
      "cell_type": "markdown",
      "metadata": {
        "id": "view-in-github",
        "colab_type": "text"
      },
      "source": [
        "<a href=\"https://colab.research.google.com/github/ReemHossain/python_codes/blob/main/B2_CT_2_18101100.ipynb\" target=\"_parent\"><img src=\"https://colab.research.google.com/assets/colab-badge.svg\" alt=\"Open In Colab\"/></a>"
      ]
    },
    {
      "cell_type": "markdown",
      "metadata": {
        "id": "BvQf1laPSjp-"
      },
      "source": [
        "1. Write a python program to calculate the grade of an exam. The exam mark will be given as input. Follow the UAP rule for grading"
      ]
    },
    {
      "cell_type": "code",
      "metadata": {
        "id": "7Ls2r6KDScrt",
        "colab": {
          "base_uri": "https://localhost:8080/",
          "height": 52
        },
        "outputId": "f68be525-8b5c-460f-b540-e1805dd95904"
      },
      "source": [
        "mark=float( input() )\n",
        "\n",
        "if 80<= mark <=100 :\n",
        "  print(\"A+\")\n",
        "elif 75<= mark <=80 :\n",
        "  print(\"A\")\n",
        "elif 70<= mark <=75 :\n",
        "  print(\"A-\")\n",
        "elif 75<= mark <=80 :\n",
        "  print(\"B+\")\n",
        "elif 60<= mark <=65 :\n",
        "  print(\"B\")\n",
        "elif 55<= mark <=60 :\n",
        "  print(\"B-\")\n",
        "elif 50<= mark <=55 :\n",
        "  print(\"C+\")\n",
        "elif 45<= mark <=50 :\n",
        "  print(\"C\")\n",
        "elif 40<= mark <=45 :\n",
        "  print(\"D\")\n",
        "else :\n",
        "  print(\"F\")"
      ],
      "execution_count": null,
      "outputs": [
        {
          "output_type": "stream",
          "text": [
            "74\n",
            "A-\n"
          ],
          "name": "stdout"
        }
      ]
    },
    {
      "cell_type": "code",
      "metadata": {
        "id": "nVSA0DoNaUiO"
      },
      "source": [
        ""
      ],
      "execution_count": null,
      "outputs": []
    },
    {
      "cell_type": "markdown",
      "metadata": {
        "id": "-Or7IYiBaU8D"
      },
      "source": [
        "2. Write a python code to determine negative or non-negative. "
      ]
    },
    {
      "cell_type": "code",
      "metadata": {
        "id": "4EqujCRsbSEc",
        "colab": {
          "base_uri": "https://localhost:8080/",
          "height": 52
        },
        "outputId": "7bab1bb8-6c93-4cbf-e6be-dd18c0b5ec22"
      },
      "source": [
        "number=int( input() )\n",
        "if number>=0:\n",
        "  print(\"Non-negative\")\n",
        "else:\n",
        "  print(\"Negative\")\n"
      ],
      "execution_count": null,
      "outputs": [
        {
          "output_type": "stream",
          "text": [
            "1\n",
            "Non-negative\n"
          ],
          "name": "stdout"
        }
      ]
    },
    {
      "cell_type": "code",
      "metadata": {
        "id": "UFH9upbamMIh"
      },
      "source": [
        ""
      ],
      "execution_count": null,
      "outputs": []
    },
    {
      "cell_type": "markdown",
      "metadata": {
        "id": "cJRllh9DbUtF"
      },
      "source": [
        "3. Given a list of 5 elements, swap two values of specified index. \t"
      ]
    },
    {
      "cell_type": "code",
      "metadata": {
        "id": "xOl3mB2fbaE6",
        "colab": {
          "base_uri": "https://localhost:8080/",
          "height": 156
        },
        "outputId": "f5983c1b-104d-4fbc-9af9-2edd3c517712"
      },
      "source": [
        "a=int(input(\"Element 1: \") )\n",
        "b=int( input(\"Element 2: \") )\n",
        "c=int( input(\"Element 3: \") )\n",
        "d=int( input(\"Element 4: \") )\n",
        "e=int( input(\"Element 5: \") )\n",
        "\n",
        "index1=int( input(\"Index 1: \") )\n",
        "index2=int( input(\"Index 2: \") )\n",
        "\n",
        "List=[a,b,c,d,e]\n",
        "\n",
        "temp = List[index1]\n",
        "List[index1] = List[index2]\n",
        "List[index2] = temp\n",
        "\n",
        "print(List)\n"
      ],
      "execution_count": null,
      "outputs": [
        {
          "output_type": "stream",
          "text": [
            "Element 1: 10\n",
            "Element 2: 5\n",
            "Element 3: 100\n",
            "Element 4: 4\n",
            "Element 5: 6\n",
            "Index 1: 2\n",
            "Index 2: 4\n",
            "[10, 5, 6, 4, 100]\n"
          ],
          "name": "stdout"
        }
      ]
    },
    {
      "cell_type": "code",
      "metadata": {
        "id": "mrhum3s7baH2"
      },
      "source": [
        ""
      ],
      "execution_count": null,
      "outputs": []
    },
    {
      "cell_type": "markdown",
      "metadata": {
        "id": "ONdE3AJ2cpqa"
      },
      "source": [
        "5. Choose variables of appropriate data type to store the following information where you can search information about an employee with their EmpID.\t\t"
      ]
    },
    {
      "cell_type": "code",
      "metadata": {
        "id": "q9QpDzWkeU6M"
      },
      "source": [
        "Employee_d = {\n",
        "    \"77920\" : {\n",
        "        \"EmpID\" : 77920,\n",
        "        \"LastName\" : \"Jackson\",\n",
        "        \"FirstName\": \"Stephen\",\n",
        "        \"HireDate\": \"11-29-1997\"\n",
        "    },\n",
        "\n",
        "    \"77921\" : {\n",
        "        \"EmpID\" : 77921,\n",
        "        \"LastName\" : \"Reynolds\",\n",
        "        \"FirstName\": \"Sandy\",\n",
        "        \"HireDate\": \"01-04-1993\"\n",
        "  },\n",
        "\n",
        "  \"77922\" : {\n",
        "        \"EmpID\" : 77922,\n",
        "        \"LastName\" : \"Armstrong\",\n",
        "        \"FirstName\": \"Stephen\",\n",
        "        \"HireDate\": \"09-16-1989\"\n",
        "  },\n",
        "\n",
        "  \"77923\" : {\n",
        "        \"EmpID\" : 77923,\n",
        "        \"LastName\" : \"Jackson\",\n",
        "        \"FirstName\": \"Linda\",\n",
        "        \"HireDate\": \"10-09-1996\" \n",
        "    }\n",
        "}      \n",
        "\n"
      ],
      "execution_count": null,
      "outputs": []
    },
    {
      "cell_type": "code",
      "metadata": {
        "id": "1qcpEyZ-lziy"
      },
      "source": [
        ""
      ],
      "execution_count": null,
      "outputs": []
    },
    {
      "cell_type": "code",
      "metadata": {
        "id": "NOquMNBHlzrf"
      },
      "source": [
        ""
      ],
      "execution_count": null,
      "outputs": []
    }
  ]
}