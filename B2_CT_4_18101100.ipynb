{
  "nbformat": 4,
  "nbformat_minor": 0,
  "metadata": {
    "colab": {
      "name": "B2_CT_4_18101100.ipynb",
      "provenance": [],
      "collapsed_sections": [],
      "authorship_tag": "ABX9TyPBRpgOvqXNVxWrUBI9qHD/",
      "include_colab_link": true
    },
    "kernelspec": {
      "name": "python3",
      "display_name": "Python 3"
    }
  },
  "cells": [
    {
      "cell_type": "markdown",
      "metadata": {
        "id": "view-in-github",
        "colab_type": "text"
      },
      "source": [
        "<a href=\"https://colab.research.google.com/github/ReemHossain/python_codes/blob/main/B2_CT_4_18101100.ipynb\" target=\"_parent\"><img src=\"https://colab.research.google.com/assets/colab-badge.svg\" alt=\"Open In Colab\"/></a>"
      ]
    },
    {
      "cell_type": "markdown",
      "metadata": {
        "id": "cB8OHppehpsw"
      },
      "source": [
        "1. Write a python class to calculate the area of the geometric shapes"
      ]
    },
    {
      "cell_type": "code",
      "metadata": {
        "id": "easHwMbCheEm"
      },
      "source": [
        "class Shapesarea :\n",
        "  def __init__(self,l,b,h):\n",
        "    self.l = l \n",
        "    self.b = b\n",
        "    self.h = h\n",
        "  \n",
        "\n",
        "  def tri_area(self):\n",
        "    return (1/2)*self.l*self.b\n",
        "    print(\"area of triangle:\", tri_area)\n",
        "\n",
        "  def sqr_area(self):\n",
        "    return self.l*self.l\n",
        "\n",
        "  def rectangle_area(self):\n",
        "    return self.l*self.b\n",
        "\n",
        "  def parallelogram_area(self):\n",
        "    return self.l*self.h\n",
        "\n",
        "  def rhombus_area(self):\n",
        "    return (self.l*self.b)/2\n",
        "\n",
        "  def cylinder_area(self):\n",
        "    return (2*3.416*self.l*self*h)+(2*3.1416*l*l)\n",
        "\n",
        "  def cube_area(self):\n",
        "    return 6*self.b*self.b \n",
        "\n",
        "  def sphere_area(self):\n",
        "    return 4*3.1416*self.l*self.l\n",
        "\n"
      ],
      "execution_count": null,
      "outputs": []
    },
    {
      "cell_type": "code",
      "metadata": {
        "id": "RXGJkS8YiFY4"
      },
      "source": [
        ""
      ],
      "execution_count": null,
      "outputs": []
    },
    {
      "cell_type": "markdown",
      "metadata": {
        "id": "MhpIfGDchtFN"
      },
      "source": [
        "2. write a python class for student class with necessary attributes and methods"
      ]
    },
    {
      "cell_type": "code",
      "metadata": {
        "id": "fNIeGrAlwgID"
      },
      "source": [
        "class Students:\n",
        "\n",
        "\n",
        "  def __init__(self, name, dept,id):\n",
        "    self.name = name\n",
        "    self.dept = dept\n",
        "    self.id= id\n",
        "\n",
        "    \n",
        "\n",
        "def get_class(self,id):\n",
        "      print(\"attending classes\")\n",
        "\n",
        "def get_exam(self,name,id):\n",
        "      print(\"giving exam\")\n",
        "\n",
        "obj1 = (\"a\",\"cse\", 1)\n",
        "obj2 = (\"b\",\"eee\", 2)\n",
        "obj1 = (\"c\",\"ce\", 3)\n"
      ],
      "execution_count": null,
      "outputs": []
    }
  ]
}