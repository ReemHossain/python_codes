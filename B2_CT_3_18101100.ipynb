{
  "nbformat": 4,
  "nbformat_minor": 0,
  "metadata": {
    "colab": {
      "name": "B2_CT_3_18101100.ipynb",
      "provenance": [],
      "collapsed_sections": [],
      "authorship_tag": "ABX9TyP6tVQtBBrnoTtZsIi5xOzA",
      "include_colab_link": true
    },
    "kernelspec": {
      "name": "python3",
      "display_name": "Python 3"
    }
  },
  "cells": [
    {
      "cell_type": "markdown",
      "metadata": {
        "id": "view-in-github",
        "colab_type": "text"
      },
      "source": [
        "<a href=\"https://colab.research.google.com/github/ReemHossain/python_codes/blob/main/B2_CT_3_18101100.ipynb\" target=\"_parent\"><img src=\"https://colab.research.google.com/assets/colab-badge.svg\" alt=\"Open In Colab\"/></a>"
      ]
    },
    {
      "cell_type": "markdown",
      "metadata": {
        "id": "8TM0-fttWtpb"
      },
      "source": [
        "2. use a loop to iterate through the “students” dictionary and print only the “name” of all the students."
      ]
    },
    {
      "cell_type": "code",
      "metadata": {
        "id": "IOzRVpVFW6nr",
        "colab": {
          "base_uri": "https://localhost:8080/",
          "height": 69
        },
        "outputId": "d4be65e6-53e0-4c7d-a84e-165bf99d8893"
      },
      "source": [
        "students = {\n",
        "    1 : {\n",
        "        \"name\" : \"A\",\n",
        "        \"ID\" : 1,\n",
        "         \"Dept\" : \"CSE\"\n",
        "    },\n",
        "\n",
        "    2 : {\n",
        "        \"name\" : \"B\",\n",
        "        \"ID\" : 2,\n",
        "         \"Dept\" : \"EEE\"\n",
        "    },\n",
        "     \n",
        "    3 : {\n",
        "        \"name\" : \"C\",\n",
        "        \"ID\" :3,\n",
        "         \"Dept\" : \"CE\"\n",
        "         \n",
        "    }\n",
        "}\n",
        "\n",
        "for i in students :\n",
        "  print(students[i][\"name\"])"
      ],
      "execution_count": null,
      "outputs": [
        {
          "output_type": "stream",
          "text": [
            "A\n",
            "B\n",
            "C\n"
          ],
          "name": "stdout"
        }
      ]
    },
    {
      "cell_type": "markdown",
      "metadata": {
        "id": "VwMWRGhbfpEQ"
      },
      "source": [
        "1. Sum the following series:\n",
        "log(1) + log(3) + log(5) + …. + upto n-th term= ?\n"
      ]
    },
    {
      "cell_type": "code",
      "metadata": {
        "id": "yY1zykjKfprb"
      },
      "source": [
        "import math\n",
        "n = int(input(\"n: \"))\n",
        "sum = 0\n",
        "\n",
        "for i in range(math.log(1) , math.log(n+1), 2):\n",
        "  sum=sum+math.log(i,10)\n",
        "  if i == n:\n",
        "    print(i, end=\"\")\n",
        "  else:\n",
        "    print(i, \" +\", end=\" \")\n",
        "  sum = sum + i\n",
        "print(\" =\", sum)"
      ],
      "execution_count": null,
      "outputs": []
    }
  ]
}